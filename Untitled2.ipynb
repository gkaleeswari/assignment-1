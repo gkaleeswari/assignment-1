{
  "nbformat": 4,
  "nbformat_minor": 0,
  "metadata": {
    "colab": {
      "provenance": [],
      "authorship_tag": "ABX9TyMw/Ad194ozXVeTbI+I3Cjn",
      "include_colab_link": true
    },
    "kernelspec": {
      "name": "python3",
      "display_name": "Python 3"
    },
    "language_info": {
      "name": "python"
    }
  },
  "cells": [
    {
      "cell_type": "markdown",
      "metadata": {
        "id": "view-in-github",
        "colab_type": "text"
      },
      "source": [
        "<a href=\"https://colab.research.google.com/github/gkaleeswari/assignment-1/blob/main/Untitled2.ipynb\" target=\"_parent\"><img src=\"https://colab.research.google.com/assets/colab-badge.svg\" alt=\"Open In Colab\"/></a>"
      ]
    },
    {
      "cell_type": "code",
      "source": [
        "L = [11, 12, 13, 14]\n",
        "L.append(50)\n",
        "L.append(60)\n",
        "print(\"After adding 50 and 60:\", L)"
      ],
      "metadata": {
        "colab": {
          "base_uri": "https://localhost:8080/"
        },
        "id": "IF9QZuHfgwXR",
        "outputId": "07cdada4-bebc-4ecc-969b-d86de464fbeb"
      },
      "execution_count": null,
      "outputs": [
        {
          "output_type": "stream",
          "name": "stdout",
          "text": [
            "After adding 50 and 60: [11, 12, 13, 14, 50, 60]\n"
          ]
        }
      ]
    },
    {
      "cell_type": "code",
      "source": [
        "2.\n",
        "L = [11, 12, 13, 14]\n",
        "if 11 in L:\n",
        "    L.remove(11)\n",
        "if 13 in L:\n",
        "    L.remove(13)\n",
        "print(\"After removing 11 and 13:\", L)"
      ],
      "metadata": {
        "colab": {
          "base_uri": "https://localhost:8080/"
        },
        "id": "7MF0aZrag8je",
        "outputId": "0ac33f67-94fc-4f23-cdd2-a691ba7618e9"
      },
      "execution_count": null,
      "outputs": [
        {
          "output_type": "stream",
          "name": "stdout",
          "text": [
            "After removing 11 and 13: [12, 14]\n"
          ]
        }
      ]
    },
    {
      "cell_type": "code",
      "source": [
        "3\n",
        "L = [12, 14, 50, 60]\n",
        "L.sort()\n",
        "print(\"List sorted in ascending order:\", L)\n"
      ],
      "metadata": {
        "colab": {
          "base_uri": "https://localhost:8080/"
        },
        "id": "dyIxZfOJhq9V",
        "outputId": "238b9175-953f-46ff-f6c3-0327839f154d"
      },
      "execution_count": null,
      "outputs": [
        {
          "output_type": "stream",
          "name": "stdout",
          "text": [
            "List sorted in ascending order: [12, 14, 50, 60]\n"
          ]
        }
      ]
    },
    {
      "cell_type": "code",
      "source": [
        "4\n",
        "L = [12, 14, 50, 60]\n",
        "L.sort(reverse=True)\n",
        "print(\"List sorted in descending order:\", L)"
      ],
      "metadata": {
        "colab": {
          "base_uri": "https://localhost:8080/"
        },
        "id": "cB4CSOUKhtZ5",
        "outputId": "527ed28b-b579-4019-fdfd-1cc2e977c4bb"
      },
      "execution_count": null,
      "outputs": [
        {
          "output_type": "stream",
          "name": "stdout",
          "text": [
            "List sorted in descending order: [60, 50, 14, 12]\n"
          ]
        }
      ]
    },
    {
      "cell_type": "code",
      "source": [
        "5.\n",
        "L = [60, 50, 14, 12]\n",
        "search_result = 13 in L\n",
        "print(\"Is 13 in the list?\", search_result)"
      ],
      "metadata": {
        "colab": {
          "base_uri": "https://localhost:8080/"
        },
        "id": "JSixTgZDhxJ2",
        "outputId": "ae610372-e5d7-41d4-cdbb-62be77c59506"
      },
      "execution_count": null,
      "outputs": [
        {
          "output_type": "stream",
          "name": "stdout",
          "text": [
            "Is 13 in the list? False\n"
          ]
        }
      ]
    },
    {
      "cell_type": "code",
      "source": [
        "7.\n",
        "L = [60, 50, 14, 12]\n",
        "total_sum = sum(L)\n",
        "print(\"Sum of all elements:\", total_sum)\n"
      ],
      "metadata": {
        "colab": {
          "base_uri": "https://localhost:8080/"
        },
        "id": "lrfosMJGiELN",
        "outputId": "0a15b8e6-42e1-487d-d9bd-bc90b1ca7cec"
      },
      "execution_count": null,
      "outputs": [
        {
          "output_type": "stream",
          "name": "stdout",
          "text": [
            "Sum of all elements: 136\n"
          ]
        }
      ]
    },
    {
      "cell_type": "code",
      "source": [
        "8.\n",
        "L = [60, 50, 14, 12]\n",
        "sum_odd = sum(x for x in L if x % 2 != 0)\n",
        "print(\"Sum of all odd numbers:\", sum_odd)\n"
      ],
      "metadata": {
        "colab": {
          "base_uri": "https://localhost:8080/"
        },
        "id": "zMXbJN18iH6c",
        "outputId": "de3c4836-1894-42a8-b430-229f4697284b"
      },
      "execution_count": null,
      "outputs": [
        {
          "output_type": "stream",
          "name": "stdout",
          "text": [
            "Sum of all odd numbers: 0\n"
          ]
        }
      ]
    },
    {
      "cell_type": "code",
      "source": [
        "9.\n",
        "L = [60, 50, 14, 12]\n",
        "sum_even = sum(x for x in L if x % 2 == 0)\n",
        "print(\"Sum of all even numbers:\", sum_even)\n"
      ],
      "metadata": {
        "colab": {
          "base_uri": "https://localhost:8080/"
        },
        "id": "HEx5kWhdiQMC",
        "outputId": "ec00b419-2081-48c9-c035-8cbee2779151"
      },
      "execution_count": null,
      "outputs": [
        {
          "output_type": "stream",
          "name": "stdout",
          "text": [
            "Sum of all even numbers: 136\n"
          ]
        }
      ]
    },
    {
      "cell_type": "code",
      "source": [
        "10\n",
        "L = [60, 50, 14, 12]\n",
        "def is_prime(num):\n",
        "    if num < 2:\n",
        "        return False\n",
        "    for i in range(2, int(num**0.5) + 1):\n",
        "        if num % i == 0:\n",
        "            return False\n",
        "    return True\n",
        "\n",
        "sum_prime = sum(x for x in L if is_prime(x))\n",
        "print(\"Sum of all prime numbers:\", sum_prime)\n"
      ],
      "metadata": {
        "colab": {
          "base_uri": "https://localhost:8080/"
        },
        "id": "fLb38d8qiZqS",
        "outputId": "f6c2f415-bbbd-44d1-e729-dae8c81ab9f6"
      },
      "execution_count": null,
      "outputs": [
        {
          "output_type": "stream",
          "name": "stdout",
          "text": [
            "Sum of all prime numbers: 0\n"
          ]
        }
      ]
    },
    {
      "cell_type": "code",
      "source": [
        "11\n",
        "L = [60, 50, 14, 12]\n",
        "L.clear()\n",
        "print(\"List after clearing all elements:\", L)\n"
      ],
      "metadata": {
        "colab": {
          "base_uri": "https://localhost:8080/"
        },
        "id": "uEQzZEZTicjH",
        "outputId": "c884f28b-e2d5-4241-ebf2-c1f2d48debd6"
      },
      "execution_count": null,
      "outputs": [
        {
          "output_type": "stream",
          "name": "stdout",
          "text": [
            "List after clearing all elements: []\n"
          ]
        }
      ]
    },
    {
      "cell_type": "code",
      "source": [
        "12\n",
        "L = [60, 50, 14, 12]\n",
        "del L\n",
        "print(\"List deleted.\")\n"
      ],
      "metadata": {
        "colab": {
          "base_uri": "https://localhost:8080/"
        },
        "id": "lEQo8Kenifmx",
        "outputId": "6d062ed4-2e02-4460-a520-c34a5ac2a80c"
      },
      "execution_count": null,
      "outputs": [
        {
          "output_type": "stream",
          "name": "stdout",
          "text": [
            "List deleted.\n"
          ]
        }
      ]
    },
    {
      "cell_type": "code",
      "source": [
        "Q2."
      ],
      "metadata": {
        "id": "Z2Yn121foTny"
      },
      "execution_count": 13,
      "outputs": []
    },
    {
      "cell_type": "code",
      "source": [
        "D = {1: 5.6, 2: 7.8, 3: 6.6, 4: 8.7, 5: 7.7}\n",
        "D[8] = 8.8\n",
        "print(\"After adding key=8 and value=8.8:\", D)\n"
      ],
      "metadata": {
        "colab": {
          "base_uri": "https://localhost:8080/"
        },
        "id": "sQec3iNRoz70",
        "outputId": "935cc846-ffb2-426d-afb8-6f2376e12827"
      },
      "execution_count": 14,
      "outputs": [
        {
          "output_type": "stream",
          "name": "stdout",
          "text": [
            "After adding key=8 and value=8.8: {1: 5.6, 2: 7.8, 3: 6.6, 4: 8.7, 5: 7.7, 8: 8.8}\n"
          ]
        }
      ]
    },
    {
      "cell_type": "code",
      "source": [
        "D = {1: 5.6, 2: 7.8, 3: 6.6, 4: 8.7, 5: 7.7, 8: 8.8}\n",
        "if 2 in D:\n",
        "    del D[2]\n",
        "print(\"After removing key=2:\", D)\n"
      ],
      "metadata": {
        "colab": {
          "base_uri": "https://localhost:8080/"
        },
        "id": "UAFteujno7RA",
        "outputId": "651af94a-6d58-4a3e-fc07-1f058f46890e"
      },
      "execution_count": 15,
      "outputs": [
        {
          "output_type": "stream",
          "name": "stdout",
          "text": [
            "After removing key=2: {1: 5.6, 3: 6.6, 4: 8.7, 5: 7.7, 8: 8.8}\n"
          ]
        }
      ]
    },
    {
      "cell_type": "code",
      "source": [
        "D = {1: 5.6, 3: 6.6, 4: 8.7, 5: 7.7, 8: 8.8}\n",
        "is_key_present = 6 in D\n",
        "print(\"Is key=6 present in the dictionary?\", is_key_present)\n"
      ],
      "metadata": {
        "colab": {
          "base_uri": "https://localhost:8080/"
        },
        "id": "dxAXwTf4o_oF",
        "outputId": "a827d54e-05dc-4068-f5dd-36a7fb523858"
      },
      "execution_count": 16,
      "outputs": [
        {
          "output_type": "stream",
          "name": "stdout",
          "text": [
            "Is key=6 present in the dictionary? False\n"
          ]
        }
      ]
    },
    {
      "cell_type": "code",
      "source": [
        "D = {1: 5.6, 3: 6.6, 4: 8.7, 5: 7.7, 8: 8.8}\n",
        "count = len(D)\n",
        "print(\"Number of elements in the dictionary:\", count)\n"
      ],
      "metadata": {
        "colab": {
          "base_uri": "https://localhost:8080/"
        },
        "id": "fpi_FGGdpG0N",
        "outputId": "2c0ce635-3669-407d-893a-ea507e49bb10"
      },
      "execution_count": 17,
      "outputs": [
        {
          "output_type": "stream",
          "name": "stdout",
          "text": [
            "Number of elements in the dictionary: 5\n"
          ]
        }
      ]
    },
    {
      "cell_type": "code",
      "source": [
        "D = {1: 5.6, 3: 6.6, 4: 8.7, 5: 7.7, 8: 8.8}\n",
        "total_sum = sum(D.values())\n",
        "print(\"Sum of all values in the dictionary:\", total_sum)"
      ],
      "metadata": {
        "colab": {
          "base_uri": "https://localhost:8080/"
        },
        "id": "5hQ84RtbpJzJ",
        "outputId": "fdb6c688-db17-4960-bb39-070a53aec2e4"
      },
      "execution_count": 18,
      "outputs": [
        {
          "output_type": "stream",
          "name": "stdout",
          "text": [
            "Sum of all values in the dictionary: 37.4\n"
          ]
        }
      ]
    },
    {
      "cell_type": "code",
      "source": [
        "D = {1: 5.6, 3: 6.6, 4: 8.7, 5: 7.7, 8: 8.8}\n",
        "D[3] = 7.1\n",
        "print(\"After updating the value of key=3 to 7.1:\", D)"
      ],
      "metadata": {
        "colab": {
          "base_uri": "https://localhost:8080/"
        },
        "id": "4LXS_vmepWmZ",
        "outputId": "7f0b14e9-dc33-4ec1-a5a9-262dbf394d68"
      },
      "execution_count": 19,
      "outputs": [
        {
          "output_type": "stream",
          "name": "stdout",
          "text": [
            "After updating the value of key=3 to 7.1: {1: 5.6, 3: 7.1, 4: 8.7, 5: 7.7, 8: 8.8}\n"
          ]
        }
      ]
    },
    {
      "cell_type": "code",
      "source": [
        "D = {1: 5.6, 3: 7.1, 4: 8.7, 5: 7.7, 8: 8.8}\n",
        "D.clear()\n",
        "print(\"Dictionary after clearing all elements:\", D)\n"
      ],
      "metadata": {
        "colab": {
          "base_uri": "https://localhost:8080/"
        },
        "id": "VucjKuftpael",
        "outputId": "7afff4c2-ce1b-4f38-ed01-acace5617303"
      },
      "execution_count": 20,
      "outputs": [
        {
          "output_type": "stream",
          "name": "stdout",
          "text": [
            "Dictionary after clearing all elements: {}\n"
          ]
        }
      ]
    },
    {
      "cell_type": "code",
      "source": [
        "3."
      ],
      "metadata": {
        "id": "BABR4-nup2D6"
      },
      "execution_count": null,
      "outputs": []
    },
    {
      "cell_type": "code",
      "source": [
        "S1 = {10, 20, 30, 40, 50, 60}\n",
        "S1.add(55)\n",
        "S1.add(66)\n",
        "print(\"After adding 55 and 66 to S1:\", S1)\n"
      ],
      "metadata": {
        "colab": {
          "base_uri": "https://localhost:8080/"
        },
        "id": "SH2BcshoqX7R",
        "outputId": "f57c392b-310d-473d-8eb2-19722c474693"
      },
      "execution_count": 21,
      "outputs": [
        {
          "output_type": "stream",
          "name": "stdout",
          "text": [
            "After adding 55 and 66 to S1: {50, 66, 20, 55, 40, 10, 60, 30}\n"
          ]
        }
      ]
    },
    {
      "cell_type": "code",
      "source": [
        "S1 = {10, 20, 30, 40, 50, 60, 55, 66}\n",
        "S1.discard(10)\n",
        "S1.discard(30)\n",
        "print(\"After removing 10 and 30 from S1:\", S1)\n"
      ],
      "metadata": {
        "colab": {
          "base_uri": "https://localhost:8080/"
        },
        "id": "dU1CoN5XqZeS",
        "outputId": "87f884dc-d358-4ba8-d3dc-668d4a28b2d1"
      },
      "execution_count": 22,
      "outputs": [
        {
          "output_type": "stream",
          "name": "stdout",
          "text": [
            "After removing 10 and 30 from S1: {66, 40, 50, 20, 55, 60}\n"
          ]
        }
      ]
    },
    {
      "cell_type": "code",
      "source": [
        "S1 = {20, 40, 50, 60, 55, 66}\n",
        "is_present = 40 in S1\n",
        "print(\"Is 40 present in S1?\", is_present)\n"
      ],
      "metadata": {
        "colab": {
          "base_uri": "https://localhost:8080/"
        },
        "id": "YXVLTRZoqeS8",
        "outputId": "ffd0d17b-56f6-4c34-d59f-4bf10233358a"
      },
      "execution_count": 23,
      "outputs": [
        {
          "output_type": "stream",
          "name": "stdout",
          "text": [
            "Is 40 present in S1? True\n"
          ]
        }
      ]
    },
    {
      "cell_type": "code",
      "source": [
        "S1 = {20, 40, 50, 60, 55, 66}\n",
        "S2 = {40, 50, 60, 70, 80, 90}\n",
        "union_set = S1.union(S2)\n",
        "print(\"Union of S1 and S2:\", union_set)"
      ],
      "metadata": {
        "colab": {
          "base_uri": "https://localhost:8080/"
        },
        "id": "GzrUNxkiqiCG",
        "outputId": "4a562176-c44d-431e-dcd5-13b8829543b1"
      },
      "execution_count": 24,
      "outputs": [
        {
          "output_type": "stream",
          "name": "stdout",
          "text": [
            "Union of S1 and S2: {66, 70, 40, 80, 50, 20, 55, 90, 60}\n"
          ]
        }
      ]
    },
    {
      "cell_type": "code",
      "source": [
        "S1 = {20, 40, 50, 60, 55, 66}\n",
        "S2 = {40, 50, 60, 70, 80, 90}\n",
        "intersection_set = S1.intersection(S2)\n",
        "print(\"Intersection of S1 and S2:\", intersection_set)"
      ],
      "metadata": {
        "colab": {
          "base_uri": "https://localhost:8080/"
        },
        "id": "NNMGw2kvqppi",
        "outputId": "4b2920fd-5d2d-4faf-cc0c-42818f101cb5"
      },
      "execution_count": 25,
      "outputs": [
        {
          "output_type": "stream",
          "name": "stdout",
          "text": [
            "Intersection of S1 and S2: {40, 50, 60}\n"
          ]
        }
      ]
    },
    {
      "cell_type": "code",
      "source": [
        "S1 = {20, 40, 50, 60, 55, 66}\n",
        "S2 = {40, 50, 60, 70, 80, 90}\n",
        "difference_set = S1.difference(S2)\n",
        "print(\"Difference S1 - S2:\", difference_set)\n"
      ],
      "metadata": {
        "colab": {
          "base_uri": "https://localhost:8080/"
        },
        "id": "9Adf_J9Fq1mJ",
        "outputId": "ef6655b1-b58a-4b8f-beb4-7d833e82ae0b"
      },
      "execution_count": 26,
      "outputs": [
        {
          "output_type": "stream",
          "name": "stdout",
          "text": [
            "Difference S1 - S2: {66, 20, 55}\n"
          ]
        }
      ]
    },
    {
      "cell_type": "code",
      "source": [
        "4."
      ],
      "metadata": {
        "id": "by4O8yNyrCmg"
      },
      "execution_count": null,
      "outputs": []
    },
    {
      "cell_type": "code",
      "source": [
        "import random\n",
        "import string\n",
        "\n",
        "def generate_random_string(length):\n",
        "    letters = string.ascii_letters\n",
        "    return ''.join(random.choice(letters) for i in range(length))\n",
        "\n",
        "random_strings = [generate_random_string(random.randint(6, 8)) for _ in range(100)]\n",
        "\n",
        "print(\"100 random strings of length between 6 and 8:\")\n",
        "for s in random_strings:\n",
        "    print(s)\n"
      ],
      "metadata": {
        "colab": {
          "base_uri": "https://localhost:8080/"
        },
        "id": "vo-sSlB6rGMM",
        "outputId": "e05875d2-4ea0-4277-f17c-1c5e1501e46f"
      },
      "execution_count": 27,
      "outputs": [
        {
          "output_type": "stream",
          "name": "stdout",
          "text": [
            "100 random strings of length between 6 and 8:\n",
            "dxOqft\n",
            "hylczrw\n",
            "yhgRiXwU\n",
            "OVlSbJBr\n",
            "jaEany\n",
            "OQDAubV\n",
            "ZZQEohxJ\n",
            "tnEasTR\n",
            "xmTPwF\n",
            "gbBWLV\n",
            "MzfscUI\n",
            "BehVQko\n",
            "lhTSybCz\n",
            "GRklWJmv\n",
            "abDQUwI\n",
            "vWBYhA\n",
            "libOYMz\n",
            "UNuoZyh\n",
            "ewVMdgtI\n",
            "PGBCRGY\n",
            "OQnfMto\n",
            "aBCSFG\n",
            "Xumfrtor\n",
            "PYRSnxuU\n",
            "WgibnkE\n",
            "atscKtDz\n",
            "Dfndgr\n",
            "JXIuTh\n",
            "DgQoWIcY\n",
            "aUEvpTI\n",
            "PpAUvE\n",
            "IpkKOjNH\n",
            "ZCEGMea\n",
            "YXbKEXzG\n",
            "pYsqOpAY\n",
            "hzuQJe\n",
            "QnDOaRa\n",
            "NkUrIteV\n",
            "IufWzx\n",
            "dIRpMJvs\n",
            "ipkCYXI\n",
            "PGazAO\n",
            "qwgFTuBZ\n",
            "vySpfM\n",
            "aaOgede\n",
            "asJLLt\n",
            "vQsOwO\n",
            "KVrMdu\n",
            "vajtItmh\n",
            "VATGSMj\n",
            "DwRHRR\n",
            "qnzweif\n",
            "tKuNCz\n",
            "objeypZ\n",
            "QddLwzFB\n",
            "HOnaqnOE\n",
            "HgbGrv\n",
            "KPtFhp\n",
            "LWDxMpaF\n",
            "NkjpLLp\n",
            "XLGtAmq\n",
            "BiwvQh\n",
            "RYGnwL\n",
            "ttOluU\n",
            "dFHggyT\n",
            "AAxIRbqY\n",
            "JmMUFh\n",
            "VAAjpYza\n",
            "nNSdFcj\n",
            "GvzGuUKr\n",
            "alFigEEB\n",
            "fpEeUeC\n",
            "gSuccv\n",
            "dHJtya\n",
            "ZNeSafQK\n",
            "BSyRPw\n",
            "bSVfdoc\n",
            "lBBKXUsa\n",
            "jBOezTx\n",
            "BYKjdX\n",
            "GFjfdS\n",
            "nQRoyFFO\n",
            "QuQlJN\n",
            "xCdwEQ\n",
            "MQwoNqiO\n",
            "AeqJwhh\n",
            "hCelbY\n",
            "FQpsFk\n",
            "apHlRmGV\n",
            "RLarVivV\n",
            "QxwlBg\n",
            "jRiZHf\n",
            "TEMlqxw\n",
            "GiMqmB\n",
            "vxLNQdv\n",
            "uJwVTkv\n",
            "dhzJSNgm\n",
            "xROxqvM\n",
            "QxuFkL\n",
            "pnUJATH\n"
          ]
        }
      ]
    },
    {
      "cell_type": "code",
      "source": [
        "def is_prime(num):\n",
        "    if num < 2:\n",
        "        return False\n",
        "    for i in range(2, int(num**0.5) + 1):\n",
        "        if num % i == 0:\n",
        "            return False\n",
        "    return True\n",
        "\n",
        "prime_numbers = [num for num in range(600, 801) if is_prime(num)]\n",
        "\n",
        "print(\"Prime numbers between 600 and 800:\")\n",
        "for prime in prime_numbers:\n",
        "    print(prime)\n"
      ],
      "metadata": {
        "colab": {
          "base_uri": "https://localhost:8080/"
        },
        "id": "AK1nCne0rZwZ",
        "outputId": "2919d327-8a44-4948-ddad-f6d1351711b6"
      },
      "execution_count": 28,
      "outputs": [
        {
          "output_type": "stream",
          "name": "stdout",
          "text": [
            "Prime numbers between 600 and 800:\n",
            "601\n",
            "607\n",
            "613\n",
            "617\n",
            "619\n",
            "631\n",
            "641\n",
            "643\n",
            "647\n",
            "653\n",
            "659\n",
            "661\n",
            "673\n",
            "677\n",
            "683\n",
            "691\n",
            "701\n",
            "709\n",
            "719\n",
            "727\n",
            "733\n",
            "739\n",
            "743\n",
            "751\n",
            "757\n",
            "761\n",
            "769\n",
            "773\n",
            "787\n",
            "797\n"
          ]
        }
      ]
    },
    {
      "cell_type": "code",
      "source": [
        "numbers = [num for num in range(100, 1001) if num % 7 == 0 and num % 9 == 0]\n",
        "\n",
        "print(\"Numbers between 100 and 1000 divisible by 7 and 9:\")\n",
        "for number in numbers:\n",
        "    print(number)\n"
      ],
      "metadata": {
        "colab": {
          "base_uri": "https://localhost:8080/"
        },
        "id": "UuNJMY4grfTK",
        "outputId": "e2a3f5eb-5b0f-4c00-d3b9-f16390d116d1"
      },
      "execution_count": 29,
      "outputs": [
        {
          "output_type": "stream",
          "name": "stdout",
          "text": [
            "Numbers between 100 and 1000 divisible by 7 and 9:\n",
            "126\n",
            "189\n",
            "252\n",
            "315\n",
            "378\n",
            "441\n",
            "504\n",
            "567\n",
            "630\n",
            "693\n",
            "756\n",
            "819\n",
            "882\n",
            "945\n"
          ]
        }
      ]
    },
    {
      "cell_type": "code",
      "source": [
        "5."
      ],
      "metadata": {
        "id": "_tBch2IEriDd"
      },
      "execution_count": null,
      "outputs": []
    },
    {
      "cell_type": "code",
      "source": [
        "import random\n",
        "\n",
        "Create two lists of 10 random numbers between 10 and 30\n",
        "list1 = [random.randint(10, 30) for _ in range(10)]\n",
        "list2 = [random.randint(10, 30) for _ in range(10)]\n",
        "\n",
        "print(\"List 1:\", list1)\n",
        "print(\"List 2:\", list2)\n",
        "\n",
        "(i) Common numbers in the two lists\n",
        "common_numbers = list(set(list1).intersection(list2))\n",
        "print(\"Common numbers:\", common_numbers)\n",
        "\n",
        "(ii) Unique numbers in both the list\n",
        "unique_numbers_list1 = list(set(list1) - set(list2))\n",
        "unique_numbers_list2 = list(set(list2) - set(list1))\n",
        "unique_numbers = unique_numbers_list1 + unique_numbers_list2\n",
        "print(\"Unique numbers in both lists:\", unique_numbers)\n",
        "\n",
        "(iii) Minimum in both the list\n",
        "min_list1 = min(list1)\n",
        "min_list2 = min(list2)\n",
        "print(\"Minimum in List 1:\", min_list1)\n",
        "print(\"Minimum in List 2:\", min_list2)\n",
        "\n",
        "(iv) Maximum in both the list\n",
        "max_list1 = max(list1)\n",
        "max_list2 = max(list2)\n",
        "print(\"Maximum in List 1:\", max_list1)\n",
        "print(\"Maximum in List 2:\", max_list2)\n",
        "\n",
        "(v) Sum of both the lists\n",
        "sum_list1 = sum(list1)\n",
        "sum_list2 = sum(list2)\n",
        "print(\"Sum of List 1:\", sum_list1)\n",
        "print(\"Sum of List 2:\", sum_list2)\n"
      ],
      "metadata": {
        "colab": {
          "base_uri": "https://localhost:8080/"
        },
        "id": "w5vErF2hsNqs",
        "outputId": "714e2f17-04b4-4b71-88c7-0618a74971cc"
      },
      "execution_count": 32,
      "outputs": [
        {
          "output_type": "stream",
          "name": "stdout",
          "text": [
            "List 1: [18, 25, 10, 18, 25, 16, 11, 11, 12, 25]\n",
            "List 2: [20, 14, 27, 23, 16, 22, 30, 13, 14, 11]\n",
            "Common numbers: [16, 11]\n",
            "Unique numbers in both lists: [25, 10, 18, 12, 13, 14, 20, 22, 23, 27, 30]\n",
            "Minimum in List 1: 10\n",
            "Minimum in List 2: 11\n",
            "Maximum in List 1: 25\n",
            "Maximum in List 2: 30\n",
            "Sum of List 1: 171\n",
            "Sum of List 2: 190\n"
          ]
        }
      ]
    },
    {
      "cell_type": "code",
      "source": [
        "6."
      ],
      "metadata": {
        "id": "IGhZfGKAsair"
      },
      "execution_count": null,
      "outputs": []
    },
    {
      "cell_type": "code",
      "source": [
        "import random\n",
        "\n",
        "random_numbers = [random.randint(100, 900) for _ in range(100)]\n",
        "\n",
        "print(\"Random Numbers:\", random_numbers)\n",
        "(i) All odd numbers\n",
        "odd_numbers = [num for num in random_numbers if num % 2 != 0]\n",
        "print(\"Odd numbers:\", odd_numbers)\n",
        "print(\"Count of odd numbers:\", len(odd_numbers))\n",
        "\n",
        "(ii) All even numbers\n",
        "even_numbers = [num for num in random_numbers if num % 2 == 0]\n",
        "print(\"Even numbers:\", even_numbers)\n",
        "print(\"Count of even numbers:\", len(even_numbers))\n",
        "\n",
        "(iii) All prime numbers\n",
        "def is_prime(num):\n",
        "    if num < 2:\n",
        "        return False\n",
        "    for i in range(2, int(num**0.5) + 1):\n",
        "        if num % i == 0:\n",
        "            return False\n",
        "    return True\n",
        "\n",
        "prime_numbers = [num for num in random_numbers if is_prime(num)]\n",
        "print(\"Prime numbers:\", prime_numbers)\n",
        "print(\"Count of prime numbers:\", len(prime_numbers))\n"
      ],
      "metadata": {
        "colab": {
          "base_uri": "https://localhost:8080/"
        },
        "id": "hh_-_Q62scg9",
        "outputId": "da83b084-3a39-4553-e8df-600da9a2c5b9"
      },
      "execution_count": 33,
      "outputs": [
        {
          "output_type": "stream",
          "name": "stdout",
          "text": [
            "Random Numbers: [435, 766, 541, 509, 807, 107, 728, 873, 100, 845, 638, 716, 785, 799, 308, 356, 729, 192, 429, 504, 457, 106, 276, 456, 632, 550, 411, 379, 231, 131, 473, 545, 778, 152, 568, 584, 459, 174, 857, 334, 157, 515, 141, 542, 650, 537, 662, 456, 111, 268, 612, 871, 345, 664, 624, 737, 772, 687, 620, 136, 897, 401, 337, 121, 819, 625, 416, 802, 142, 435, 189, 561, 405, 759, 532, 427, 867, 311, 830, 230, 463, 505, 776, 149, 775, 417, 449, 265, 848, 427, 876, 322, 199, 366, 540, 539, 278, 353, 775, 367]\n",
            "Odd numbers: [435, 541, 509, 807, 107, 873, 845, 785, 799, 729, 429, 457, 411, 379, 231, 131, 473, 545, 459, 857, 157, 515, 141, 537, 111, 871, 345, 737, 687, 897, 401, 337, 121, 819, 625, 435, 189, 561, 405, 759, 427, 867, 311, 463, 505, 149, 775, 417, 449, 265, 427, 199, 539, 353, 775, 367]\n",
            "Count of odd numbers: 56\n",
            "Even numbers: [766, 728, 100, 638, 716, 308, 356, 192, 504, 106, 276, 456, 632, 550, 778, 152, 568, 584, 174, 334, 542, 650, 662, 456, 268, 612, 664, 624, 772, 620, 136, 416, 802, 142, 532, 830, 230, 776, 848, 876, 322, 366, 540, 278]\n",
            "Count of even numbers: 44\n",
            "Prime numbers: [541, 509, 107, 457, 379, 131, 857, 157, 401, 337, 311, 463, 149, 449, 199, 353, 367]\n",
            "Count of prime numbers: 17\n"
          ]
        }
      ]
    },
    {
      "cell_type": "code",
      "source": [
        "7."
      ],
      "metadata": {
        "id": "f6O7hXV5s1gy"
      },
      "execution_count": null,
      "outputs": []
    },
    {
      "cell_type": "code",
      "source": [
        "D = {1: \"One\", 2: \"Two\", 3: \"Three\", 4: \"Four\", 5: \"Five\"}\n",
        "with open(\"output.txt\", \"w\") as file:\n",
        "    for key, value in D.items():\n",
        "        file.write(f\"{key}, {value}\\n\")\n",
        "\n",
        "print(\"Dictionary keys and values have been written to output.txt\")\n"
      ],
      "metadata": {
        "colab": {
          "base_uri": "https://localhost:8080/"
        },
        "id": "rIXFsfdhs4Nn",
        "outputId": "36eaa3a0-ec1f-446b-95f8-ae9b3845c9eb"
      },
      "execution_count": 34,
      "outputs": [
        {
          "output_type": "stream",
          "name": "stdout",
          "text": [
            "Dictionary keys and values have been written to output.txt\n"
          ]
        }
      ]
    },
    {
      "cell_type": "code",
      "source": [
        "8."
      ],
      "metadata": {
        "id": "q4Q_n5kytR4u"
      },
      "execution_count": null,
      "outputs": []
    },
    {
      "cell_type": "code",
      "source": [
        "L = [\"One\", \"Two\", \"Three\", \"Four\", \"Five\"]\n",
        "\n",
        "with open('output.txt', 'w') as file:\n",
        "    for item in L:\n",
        "        file.write(f\"{item}, {len(item)}\\n\")\n",
        "\n",
        "print(\"Lengths of each element in the list have been written to output.txt\")\n"
      ],
      "metadata": {
        "colab": {
          "base_uri": "https://localhost:8080/"
        },
        "id": "pBIbL5sgtTNM",
        "outputId": "acb0bc2d-6f87-4f91-83dd-773122560b78"
      },
      "execution_count": 35,
      "outputs": [
        {
          "output_type": "stream",
          "name": "stdout",
          "text": [
            "Lengths of each element in the list have been written to output.txt\n"
          ]
        }
      ]
    },
    {
      "cell_type": "code",
      "source": [
        "9."
      ],
      "metadata": {
        "id": "v_SbtaHYtqHR"
      },
      "execution_count": null,
      "outputs": []
    },
    {
      "cell_type": "code",
      "source": [
        "import random\n",
        "import string\n",
        "def generate_random_string(length):\n",
        "    letters = string.ascii_letters + string.digits + string.punctuation\n",
        "    return ''.join(random.choice(letters) for _ in range(length))\n",
        "\n",
        "with open('random_strings.txt', 'w') as file:\n",
        "    for _ in range(100):\n",
        "        length = random.randint(10, 15)\n",
        "        random_string = generate_random_string(length)\n",
        "        file.write(random_string + '\\n')\n",
        "\n",
        "print(\"100 random strings have been written to random_strings.txt\")\n"
      ],
      "metadata": {
        "colab": {
          "base_uri": "https://localhost:8080/"
        },
        "id": "NPWkSsp5trM8",
        "outputId": "360b2259-0a44-4248-e4fe-4ea3b7b1d79f"
      },
      "execution_count": 36,
      "outputs": [
        {
          "output_type": "stream",
          "name": "stdout",
          "text": [
            "100 random strings have been written to random_strings.txt\n"
          ]
        }
      ]
    },
    {
      "cell_type": "code",
      "source": [
        "10"
      ],
      "metadata": {
        "id": "m607Qx6Ft7KU"
      },
      "execution_count": null,
      "outputs": []
    },
    {
      "cell_type": "code",
      "source": [
        "def is_prime(num):\n",
        "    if num < 2:\n",
        "        return False\n",
        "    for i in range(2, int(num**0.5) + 1):\n",
        "        if num % i == 0:\n",
        "            return False\n",
        "    return True\n",
        "\n",
        "with open('prime_numbers.txt', 'w') as file:\n",
        "    for num in range(600, 801):\n",
        "        if is_prime(num):\n",
        "            file.write(f\"{num}\\n\")\n",
        "\n",
        "print(\"Prime numbers between 600 and 800 have been written to prime_numbers.txt\")\n"
      ],
      "metadata": {
        "colab": {
          "base_uri": "https://localhost:8080/"
        },
        "id": "se3ywKi8t9R5",
        "outputId": "3e41c339-e32b-412e-cc68-7d5c9c14c806"
      },
      "execution_count": 37,
      "outputs": [
        {
          "output_type": "stream",
          "name": "stdout",
          "text": [
            "Prime numbers between 600 and 800 have been written to prime_numbers.txt\n"
          ]
        }
      ]
    },
    {
      "cell_type": "code",
      "source": [
        "11"
      ],
      "metadata": {
        "id": "p56KRHh0uUTV"
      },
      "execution_count": null,
      "outputs": []
    },
    {
      "cell_type": "code",
      "source": [
        "import time\n",
        "start_time = time.time()\n",
        "for i in range(1000000):\n",
        "    pass\n",
        "end_time = time.time()\n",
        "elapsed_time = end_time - start_time\n",
        "print(f\"Elapsed time: {elapsed_time:.4f} seconds\")"
      ],
      "metadata": {
        "colab": {
          "base_uri": "https://localhost:8080/"
        },
        "id": "QhemyQMNuVKv",
        "outputId": "7b33dc72-bdbf-4da7-fad9-ace41401a60e"
      },
      "execution_count": 39,
      "outputs": [
        {
          "output_type": "stream",
          "name": "stdout",
          "text": [
            "Elapsed time: 0.0871 seconds\n"
          ]
        }
      ]
    },
    {
      "cell_type": "code",
      "source": [
        "12"
      ],
      "metadata": {
        "id": "bfgeMk9wut8p"
      },
      "execution_count": null,
      "outputs": []
    },
    {
      "cell_type": "code",
      "source": [
        "import time\n",
        "import matplotlib.pyplot as plt\n",
        "\n",
        "\n",
        "def generate_random_list(size):\n",
        "    return [random.random() for _ in range(size)]\n",
        "\n",
        "def measure_sorting_time(lst):\n",
        "    start_time = time.time()\n",
        "    lst.sort()\n",
        "    end_time = time.time()\n",
        "    return end_time - start_time\n",
        "\n",
        "sizes = [5000, 10000, 15000, 20000, 25000]\n",
        "times = []\n",
        "\n",
        "for size in sizes:\n",
        "    random_list = generate_random_list(size)\n",
        "    sorting_time = measure_sorting_time(random_list)\n",
        "    times.append(sorting_time)\n",
        "    print(f\"Time taken to sort {size} elements: {sorting_time:.4f} seconds\")\n",
        "\n",
        "plt.figure(figsize=(8, 6))\n",
        "plt.plot(sizes, times, marker='o', linestyle='-', color='b')\n",
        "plt.title('Sorting Time vs Number of Elements')\n",
        "plt.xlabel('Number of Elements')\n",
        "plt.ylabel('Time Taken (seconds)')\n",
        "plt.grid(True)\n",
        "plt.xticks(sizes)\n",
        "plt.tight_layout()\n",
        "plt.show()\n"
      ],
      "metadata": {
        "colab": {
          "base_uri": "https://localhost:8080/",
          "height": 694
        },
        "id": "me0c3p46uuhZ",
        "outputId": "415f4278-d90e-4e3d-bf08-b0796d437ab7"
      },
      "execution_count": 40,
      "outputs": [
        {
          "output_type": "stream",
          "name": "stdout",
          "text": [
            "Time taken to sort 5000 elements: 0.0101 seconds\n",
            "Time taken to sort 10000 elements: 0.0022 seconds\n",
            "Time taken to sort 15000 elements: 0.0088 seconds\n",
            "Time taken to sort 20000 elements: 0.0050 seconds\n",
            "Time taken to sort 25000 elements: 0.0157 seconds\n"
          ]
        },
        {
          "output_type": "display_data",
          "data": {
            "text/plain": [
              "<Figure size 800x600 with 1 Axes>"
            ],
            "image/png": "[encoded data removed]"
          },
          "metadata": {}
        }
      ]
    },
    {
      "cell_type": "code",
      "source": [
        "student_marks = {\n",
        "    'Student1': [80, 75, 85, 90, 78],\n",
        "    'Student2': [70, 65, 68, 72, 76],\n",
        "    'Student3': [85, 80, 90, 88, 92],\n",
        "    'Student4': [60, 55, 58, 62, 64],\n",
        "    'Student5': [90, 85, 88, 92, 87]\n",
        "}\n",
        "\n",
        "\n",
        "average_marks = {}\n",
        "for student, marks in student_marks.items():\n",
        "    average_marks[student] = sum(marks) / len(marks)\n",
        "\n",
        "max_student = max(average_marks, key=average_marks.get)\n",
        "max_average = average_marks[max_student]\n",
        "\n",
        "min_student = min(average_marks, key=average_marks.get)\n",
        "min_average = average_marks[min_student]\n",
        "\n",
        "print(f\"Student with maximum average marks: {max_student}, Average Marks: {max_average:.2f}\")\n",
        "print(f\"Student with minimum average marks: {min_student}, Average Marks: {min_average:.2f}\")\n"
      ],
      "metadata": {
        "colab": {
          "base_uri": "https://localhost:8080/"
        },
        "id": "NBu-1APevB-g",
        "outputId": "fe3274af-bceb-4e33-974d-31cb0fe78e39"
      },
      "execution_count": 42,
      "outputs": [
        {
          "output_type": "stream",
          "name": "stdout",
          "text": [
            "Student with maximum average marks: Student5, Average Marks: 88.40\n",
            "Student with minimum average marks: Student4, Average Marks: 59.80\n"
          ]
        }
      ]
    }
  ]
}